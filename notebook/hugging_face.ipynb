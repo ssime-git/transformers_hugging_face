{
 "cells": [
  {
   "cell_type": "markdown",
   "metadata": {},
   "source": [
    "# Introduction to hugging face\n",
    "\n",
    "Data source: https://www.kaggle.com/datasets/szymonjanowski/internet-articles-data-with-users-engagement?resource=download"
   ]
  },
  {
   "cell_type": "code",
   "execution_count": 89,
   "metadata": {},
   "outputs": [],
   "source": [
    "# libraries\n",
    "import pandas as pd\n",
    "import numpy as np\n",
    "import warnings\n",
    "warnings.filterwarnings(\"ignore\")"
   ]
  },
  {
   "cell_type": "code",
   "execution_count": 2,
   "metadata": {},
   "outputs": [
    {
     "data": {
      "text/html": [
       "<div>\n",
       "<style scoped>\n",
       "    .dataframe tbody tr th:only-of-type {\n",
       "        vertical-align: middle;\n",
       "    }\n",
       "\n",
       "    .dataframe tbody tr th {\n",
       "        vertical-align: top;\n",
       "    }\n",
       "\n",
       "    .dataframe thead th {\n",
       "        text-align: right;\n",
       "    }\n",
       "</style>\n",
       "<table border=\"1\" class=\"dataframe\">\n",
       "  <thead>\n",
       "    <tr style=\"text-align: right;\">\n",
       "      <th></th>\n",
       "      <th>source_id</th>\n",
       "      <th>source_name</th>\n",
       "      <th>author</th>\n",
       "      <th>title</th>\n",
       "      <th>description</th>\n",
       "      <th>url</th>\n",
       "      <th>url_to_image</th>\n",
       "      <th>published_at</th>\n",
       "      <th>content</th>\n",
       "      <th>top_article</th>\n",
       "      <th>engagement_reaction_count</th>\n",
       "      <th>engagement_comment_count</th>\n",
       "      <th>engagement_share_count</th>\n",
       "      <th>engagement_comment_plugin_count</th>\n",
       "    </tr>\n",
       "  </thead>\n",
       "  <tbody>\n",
       "    <tr>\n",
       "      <th>0</th>\n",
       "      <td>reuters</td>\n",
       "      <td>Reuters</td>\n",
       "      <td>Reuters Editorial</td>\n",
       "      <td>NTSB says Autopilot engaged in 2018 California...</td>\n",
       "      <td>The National Transportation Safety Board said ...</td>\n",
       "      <td>https://www.reuters.com/article/us-tesla-crash...</td>\n",
       "      <td>https://s4.reutersmedia.net/resources/r/?m=02&amp;...</td>\n",
       "      <td>2019-09-03T16:22:20Z</td>\n",
       "      <td>WASHINGTON (Reuters) - The National Transporta...</td>\n",
       "      <td>0.0</td>\n",
       "      <td>0.0</td>\n",
       "      <td>0.0</td>\n",
       "      <td>2528.0</td>\n",
       "      <td>0.0</td>\n",
       "    </tr>\n",
       "    <tr>\n",
       "      <th>1</th>\n",
       "      <td>the-irish-times</td>\n",
       "      <td>The Irish Times</td>\n",
       "      <td>Eoin Burke-Kennedy</td>\n",
       "      <td>Unemployment falls to post-crash low of 5.2%</td>\n",
       "      <td>Latest monthly figures reflect continued growt...</td>\n",
       "      <td>https://www.irishtimes.com/business/economy/un...</td>\n",
       "      <td>https://www.irishtimes.com/image-creator/?id=1...</td>\n",
       "      <td>2019-09-03T10:32:28Z</td>\n",
       "      <td>The States jobless rate fell to 5.2 per cent l...</td>\n",
       "      <td>0.0</td>\n",
       "      <td>6.0</td>\n",
       "      <td>10.0</td>\n",
       "      <td>2.0</td>\n",
       "      <td>0.0</td>\n",
       "    </tr>\n",
       "    <tr>\n",
       "      <th>2</th>\n",
       "      <td>the-irish-times</td>\n",
       "      <td>The Irish Times</td>\n",
       "      <td>Deirdre McQuillan</td>\n",
       "      <td>Louise Kennedy AW2019: Long coats, sparkling t...</td>\n",
       "      <td>Autumn-winter collection features designer’s g...</td>\n",
       "      <td>https://www.irishtimes.com/\\t\\t\\t\\t\\t\\t\\t/life...</td>\n",
       "      <td>https://www.irishtimes.com/image-creator/?id=1...</td>\n",
       "      <td>2019-09-03T14:40:00Z</td>\n",
       "      <td>Louise Kennedy is showing off her autumn-winte...</td>\n",
       "      <td>1.0</td>\n",
       "      <td>NaN</td>\n",
       "      <td>NaN</td>\n",
       "      <td>NaN</td>\n",
       "      <td>NaN</td>\n",
       "    </tr>\n",
       "    <tr>\n",
       "      <th>3</th>\n",
       "      <td>al-jazeera-english</td>\n",
       "      <td>Al Jazeera English</td>\n",
       "      <td>Al Jazeera</td>\n",
       "      <td>North Korean footballer Han joins Italian gian...</td>\n",
       "      <td>Han is the first North Korean player in the Se...</td>\n",
       "      <td>https://www.aljazeera.com/news/2019/09/north-k...</td>\n",
       "      <td>https://www.aljazeera.com/mritems/Images/2019/...</td>\n",
       "      <td>2019-09-03T17:25:39Z</td>\n",
       "      <td>Han Kwang Song, the first North Korean footbal...</td>\n",
       "      <td>0.0</td>\n",
       "      <td>0.0</td>\n",
       "      <td>0.0</td>\n",
       "      <td>7.0</td>\n",
       "      <td>0.0</td>\n",
       "    </tr>\n",
       "    <tr>\n",
       "      <th>4</th>\n",
       "      <td>bbc-news</td>\n",
       "      <td>BBC News</td>\n",
       "      <td>BBC News</td>\n",
       "      <td>UK government lawyer says proroguing parliamen...</td>\n",
       "      <td>The UK government's lawyer, David Johnston arg...</td>\n",
       "      <td>https://www.bbc.co.uk/news/av/uk-scotland-4956...</td>\n",
       "      <td>https://ichef.bbci.co.uk/news/1024/branded_new...</td>\n",
       "      <td>2019-09-03T14:39:21Z</td>\n",
       "      <td>NaN</td>\n",
       "      <td>0.0</td>\n",
       "      <td>0.0</td>\n",
       "      <td>0.0</td>\n",
       "      <td>0.0</td>\n",
       "      <td>0.0</td>\n",
       "    </tr>\n",
       "  </tbody>\n",
       "</table>\n",
       "</div>"
      ],
      "text/plain": [
       "            source_id         source_name              author  \\\n",
       "0             reuters             Reuters   Reuters Editorial   \n",
       "1     the-irish-times     The Irish Times  Eoin Burke-Kennedy   \n",
       "2     the-irish-times     The Irish Times   Deirdre McQuillan   \n",
       "3  al-jazeera-english  Al Jazeera English          Al Jazeera   \n",
       "4            bbc-news            BBC News            BBC News   \n",
       "\n",
       "                                               title  \\\n",
       "0  NTSB says Autopilot engaged in 2018 California...   \n",
       "1       Unemployment falls to post-crash low of 5.2%   \n",
       "2  Louise Kennedy AW2019: Long coats, sparkling t...   \n",
       "3  North Korean footballer Han joins Italian gian...   \n",
       "4  UK government lawyer says proroguing parliamen...   \n",
       "\n",
       "                                         description  \\\n",
       "0  The National Transportation Safety Board said ...   \n",
       "1  Latest monthly figures reflect continued growt...   \n",
       "2  Autumn-winter collection features designer’s g...   \n",
       "3  Han is the first North Korean player in the Se...   \n",
       "4  The UK government's lawyer, David Johnston arg...   \n",
       "\n",
       "                                                 url  \\\n",
       "0  https://www.reuters.com/article/us-tesla-crash...   \n",
       "1  https://www.irishtimes.com/business/economy/un...   \n",
       "2  https://www.irishtimes.com/\\t\\t\\t\\t\\t\\t\\t/life...   \n",
       "3  https://www.aljazeera.com/news/2019/09/north-k...   \n",
       "4  https://www.bbc.co.uk/news/av/uk-scotland-4956...   \n",
       "\n",
       "                                        url_to_image          published_at  \\\n",
       "0  https://s4.reutersmedia.net/resources/r/?m=02&...  2019-09-03T16:22:20Z   \n",
       "1  https://www.irishtimes.com/image-creator/?id=1...  2019-09-03T10:32:28Z   \n",
       "2  https://www.irishtimes.com/image-creator/?id=1...  2019-09-03T14:40:00Z   \n",
       "3  https://www.aljazeera.com/mritems/Images/2019/...  2019-09-03T17:25:39Z   \n",
       "4  https://ichef.bbci.co.uk/news/1024/branded_new...  2019-09-03T14:39:21Z   \n",
       "\n",
       "                                             content  top_article  \\\n",
       "0  WASHINGTON (Reuters) - The National Transporta...          0.0   \n",
       "1  The States jobless rate fell to 5.2 per cent l...          0.0   \n",
       "2  Louise Kennedy is showing off her autumn-winte...          1.0   \n",
       "3  Han Kwang Song, the first North Korean footbal...          0.0   \n",
       "4                                                NaN          0.0   \n",
       "\n",
       "   engagement_reaction_count  engagement_comment_count  \\\n",
       "0                        0.0                       0.0   \n",
       "1                        6.0                      10.0   \n",
       "2                        NaN                       NaN   \n",
       "3                        0.0                       0.0   \n",
       "4                        0.0                       0.0   \n",
       "\n",
       "   engagement_share_count  engagement_comment_plugin_count  \n",
       "0                  2528.0                              0.0  \n",
       "1                     2.0                              0.0  \n",
       "2                     NaN                              NaN  \n",
       "3                     7.0                              0.0  \n",
       "4                     0.0                              0.0  "
      ]
     },
     "execution_count": 2,
     "metadata": {},
     "output_type": "execute_result"
    }
   ],
   "source": [
    "# Load the data from the path\n",
    "data_path = \"../data/articles_data.csv\"\n",
    "news_data = pd.read_csv(data_path, index_col=0)\n",
    "\n",
    "# Show data information\n",
    "news_data.head()"
   ]
  },
  {
   "cell_type": "code",
   "execution_count": 7,
   "metadata": {},
   "outputs": [
    {
     "name": "stdout",
     "output_type": "stream",
     "text": [
      "<class 'pandas.core.frame.DataFrame'>\n",
      "Index: 10437 entries, 0 to 10436\n",
      "Data columns (total 14 columns):\n",
      " #   Column                           Non-Null Count  Dtype  \n",
      "---  ------                           --------------  -----  \n",
      " 0   source_id                        10437 non-null  object \n",
      " 1   source_name                      10437 non-null  object \n",
      " 2   author                           9417 non-null   object \n",
      " 3   title                            10435 non-null  object \n",
      " 4   description                      10413 non-null  object \n",
      " 5   url                              10436 non-null  object \n",
      " 6   url_to_image                     9781 non-null   object \n",
      " 7   published_at                     10436 non-null  object \n",
      " 8   content                          9145 non-null   object \n",
      " 9   top_article                      10435 non-null  float64\n",
      " 10  engagement_reaction_count        10319 non-null  float64\n",
      " 11  engagement_comment_count         10319 non-null  float64\n",
      " 12  engagement_share_count           10319 non-null  float64\n",
      " 13  engagement_comment_plugin_count  10319 non-null  float64\n",
      "dtypes: float64(5), object(9)\n",
      "memory usage: 1.2+ MB\n"
     ]
    }
   ],
   "source": [
    "# showing the information\n",
    "news_data.info()"
   ]
  },
  {
   "cell_type": "markdown",
   "metadata": {},
   "source": [
    "## Translation"
   ]
  },
  {
   "cell_type": "markdown",
   "metadata": {},
   "source": [
    "Using Hugging Face most of the time require to download a model from the hub and some model (like the one used below) depends on the Pytorch framework. So we will need to install  Pytorch with the following command: `pip3 install torch torchvision torchaudio --index-url https://download.pytorch.org/whl/cu117`"
   ]
  },
  {
   "cell_type": "code",
   "execution_count": 90,
   "metadata": {},
   "outputs": [],
   "source": [
    "from transformers import MarianTokenizer, MarianMTModel\n",
    "import torch\n",
    "\n",
    "# Get the name of the model\n",
    "model_name = 'Helsinki-NLP/opus-mt-en-fr'\n",
    "\n",
    "# Get the tokenizer\n",
    "tokenizer = MarianTokenizer.from_pretrained(model_name)\n",
    "\n",
    "# Instantiate the model\n",
    "model = MarianMTModel.from_pretrained(model_name)"
   ]
  },
  {
   "cell_type": "code",
   "execution_count": 17,
   "metadata": {},
   "outputs": [
    {
     "data": {
      "text/plain": [
       "['NTSB says Autopilot engaged in 2018 California Tesla crash',\n",
       " 'Unemployment falls to post-crash low of 5.2%']"
      ]
     },
     "execution_count": 17,
     "metadata": {},
     "output_type": "execute_result"
    }
   ],
   "source": [
    "# Get the text\n",
    "news_data[\"title\"][:2].tolist()"
   ]
  },
  {
   "cell_type": "code",
   "execution_count": 91,
   "metadata": {},
   "outputs": [
    {
     "name": "stdout",
     "output_type": "stream",
     "text": [
      "Original text: \n",
      " NTSB says Autopilot engaged in 2018 California Tesla crash\n",
      "Translation : \n",
      " NTSB dit pilote automatique engagé dans 2018 Californie Tesla accident\n",
      "\n",
      "Original text: \n",
      " Unemployment falls to post-crash low of 5.2%\n",
      "Translation : \n",
      " Le chômage tombe à un bas niveau post-crash de 5,2 %\n",
      "\n",
      "Original text: \n",
      " Louise Kennedy AW2019: Long coats, sparkling tweed dresses and emerald knits\n",
      "Translation : \n",
      " Louise Kennedy AW2019: Robes longues, robes de tweed étincelantes et tricots émeraudes\n",
      "\n",
      "Original text: \n",
      " North Korean footballer Han joins Italian giants Juventus\n",
      "Translation : \n",
      " Le footballeur nord-coréen Han rejoint les géants italiens Juventus\n",
      "\n",
      "Original text: \n",
      " UK government lawyer says proroguing parliament 'political not legal'\n",
      "Translation : \n",
      " L'avocat du gouvernement britannique dit prorogeant le parlement \"politique pas légal\"\n",
      "\n",
      "Original text: \n",
      " 'This Tender Land' is an affecting story about growing up\n",
      "Translation : \n",
      " \"Cette terre d'appel d'offres\" est une histoire touchante sur le fait de grandir\n",
      "\n",
      "Original text: \n",
      " EU wants to see if lawmakers will block Brexit before striking new deal: UK's Johnson\n",
      "Translation : \n",
      " L'UE veut voir si les législateurs vont bloquer le Brexit avant de conclure un nouvel accord : Johnson, au Royaume-Uni\n",
      "\n",
      "Original text: \n",
      " European third quarter profit outlook improves slightly but still in recession: Refinitv\n",
      "Translation : \n",
      " Les perspectives de profit du troisième trimestre européen s'améliorent légèrement, mais toujours en récession: Refinitv\n",
      "\n",
      "Original text: \n",
      " How are emotional support animals allowed on flights?\n",
      "Translation : \n",
      " Comment les animaux de soutien émotionnel sont-ils autorisés sur les vols?\n",
      "\n",
      "Original text: \n",
      " Boris Johnson to meet Leo Varadkar in Dublin on Monday\n",
      "Translation : \n",
      " Boris Johnson rencontrera Leo Varadkar à Dublin lundi\n",
      "\n"
     ]
    }
   ],
   "source": [
    "def format_batch_texts(language_code, batch_texts):\n",
    "  \"\"\"\n",
    "  Format the batch texts for the model\n",
    "  \"\"\"\n",
    "  formated_bach = [\">>{}<< {}\".format(language_code, text) for text in batch_texts]\n",
    "  return formated_bach\n",
    "\n",
    "def perform_translation(batch_texts, model, tokenizer, language=\"fr\"):\n",
    "\n",
    "  # Prepare the text data into appropriate format for the model\n",
    "  formated_batch_texts = format_batch_texts(language, batch_texts)\n",
    " \n",
    "  # Generate translation using model\n",
    "  translated = model.generate(**tokenizer(formated_batch_texts, return_tensors=\"pt\", padding=True))\n",
    "\n",
    "  # Convert the generated tokens indices back into text\n",
    "  translated_texts = [tokenizer.decode(t, skip_special_tokens=True) for t in translated]\n",
    " \n",
    "  return translated_texts\n",
    "\n",
    "# Check the model translation from the original language (English) to French\n",
    "english_texts = news_data[\"title\"].values # Attention: should be a list\n",
    "trans_model = model\n",
    "trans_model_tkn = tokenizer\n",
    "translated_texts = perform_translation(english_texts[0:10], trans_model, trans_model_tkn)\n",
    "\n",
    "for orig_text, trans_text in zip(english_texts, translated_texts):\n",
    "  print(\"Original text: \\n\", orig_text)\n",
    "  print(\"Translation : \\n\", trans_text)\n",
    "  print(\"\")"
   ]
  },
  {
   "cell_type": "markdown",
   "metadata": {},
   "source": [
    "Le processus de traduction peut vite devenir assez long cependant et vous aurez alors besoin de plus de puissance"
   ]
  },
  {
   "cell_type": "markdown",
   "metadata": {},
   "source": [
    "## Zero-Shot Classification"
   ]
  },
  {
   "cell_type": "code",
   "execution_count": 30,
   "metadata": {},
   "outputs": [
    {
     "data": {
      "text/plain": [
       "'NTSB says Autopilot engaged in 2018 California Tesla crash'"
      ]
     },
     "execution_count": 30,
     "metadata": {},
     "output_type": "execute_result"
    }
   ],
   "source": [
    "# original text\n",
    "english_texts[0]"
   ]
  },
  {
   "cell_type": "code",
   "execution_count": 43,
   "metadata": {},
   "outputs": [
    {
     "name": "stdout",
     "output_type": "stream",
     "text": [
      "\n",
      " la phrase utilisée:  NTSB says Autopilot engaged in 2018 California Tesla crash\n",
      "\n",
      " les scores de classification zéro-shot:\n"
     ]
    },
    {
     "data": {
      "text/html": [
       "<div>\n",
       "<style scoped>\n",
       "    .dataframe tbody tr th:only-of-type {\n",
       "        vertical-align: middle;\n",
       "    }\n",
       "\n",
       "    .dataframe tbody tr th {\n",
       "        vertical-align: top;\n",
       "    }\n",
       "\n",
       "    .dataframe thead th {\n",
       "        text-align: right;\n",
       "    }\n",
       "</style>\n",
       "<table border=\"1\" class=\"dataframe\">\n",
       "  <thead>\n",
       "    <tr style=\"text-align: right;\">\n",
       "      <th></th>\n",
       "      <th>labels</th>\n",
       "      <th>scores</th>\n",
       "    </tr>\n",
       "  </thead>\n",
       "  <tbody>\n",
       "    <tr>\n",
       "      <th>0</th>\n",
       "      <td>tech</td>\n",
       "      <td>0.958968</td>\n",
       "    </tr>\n",
       "    <tr>\n",
       "      <th>1</th>\n",
       "      <td>finance</td>\n",
       "      <td>0.020088</td>\n",
       "    </tr>\n",
       "    <tr>\n",
       "      <th>2</th>\n",
       "      <td>business</td>\n",
       "      <td>0.015485</td>\n",
       "    </tr>\n",
       "    <tr>\n",
       "      <th>3</th>\n",
       "      <td>politics</td>\n",
       "      <td>0.005460</td>\n",
       "    </tr>\n",
       "  </tbody>\n",
       "</table>\n",
       "</div>"
      ],
      "text/plain": [
       "     labels    scores\n",
       "0      tech  0.958968\n",
       "1   finance  0.020088\n",
       "2  business  0.015485\n",
       "3  politics  0.005460"
      ]
     },
     "metadata": {},
     "output_type": "display_data"
    }
   ],
   "source": [
    "# import transformers\n",
    "from transformers import pipeline\n",
    "\n",
    "\n",
    "def classify_text(text, candidate_labels):\n",
    "    # load the pipeline\n",
    "    classifier = pipeline(\"zero-shot-classification\", model=\"facebook/bart-large-mnli\")\n",
    "\n",
    "    # classify the text\n",
    "    prediction = classifier(text, candidate_labels)\n",
    "    return prediction\n",
    "\n",
    "def print_classification_result(prediction):\n",
    "    print(\"\\n la phrase utilisée: \", prediction['sequence'])\n",
    "    print(\"\\n les scores de classification zéro-shot:\")\n",
    "    display(pd.DataFrame(prediction).drop([\"sequence\"], axis=1))\n",
    "\n",
    "# list candidates labels\n",
    "candidate_labels = [\"tech\", \"politics\", \"business\", \"finance\"]\n",
    "\n",
    "# example text\n",
    "english_text = english_texts[0]\n",
    "\n",
    "# classify the text and print the result\n",
    "prediction = classify_text(english_text, candidate_labels)\n",
    "print_classification_result(prediction)\n"
   ]
  },
  {
   "cell_type": "markdown",
   "metadata": {},
   "source": [
    "Lors de la première execution du code ci-dessus et sans utiliser le paramètre `model`, le modèle `bart-large-mnli` est téléchargé dans le dossier `\\.cache\\huggingface\\hub\\models--facebook--bart-large-mnli`"
   ]
  },
  {
   "cell_type": "code",
   "execution_count": 44,
   "metadata": {},
   "outputs": [
    {
     "name": "stdout",
     "output_type": "stream",
     "text": [
      "\n",
      " la phrase utilisée:  Love, Hate & Obsession\n",
      "\n",
      " les scores de classification zéro-shot:\n"
     ]
    },
    {
     "data": {
      "text/html": [
       "<div>\n",
       "<style scoped>\n",
       "    .dataframe tbody tr th:only-of-type {\n",
       "        vertical-align: middle;\n",
       "    }\n",
       "\n",
       "    .dataframe tbody tr th {\n",
       "        vertical-align: top;\n",
       "    }\n",
       "\n",
       "    .dataframe thead th {\n",
       "        text-align: right;\n",
       "    }\n",
       "</style>\n",
       "<table border=\"1\" class=\"dataframe\">\n",
       "  <thead>\n",
       "    <tr style=\"text-align: right;\">\n",
       "      <th></th>\n",
       "      <th>labels</th>\n",
       "      <th>scores</th>\n",
       "    </tr>\n",
       "  </thead>\n",
       "  <tbody>\n",
       "    <tr>\n",
       "      <th>0</th>\n",
       "      <td>tech</td>\n",
       "      <td>0.448697</td>\n",
       "    </tr>\n",
       "    <tr>\n",
       "      <th>1</th>\n",
       "      <td>politics</td>\n",
       "      <td>0.199477</td>\n",
       "    </tr>\n",
       "    <tr>\n",
       "      <th>2</th>\n",
       "      <td>business</td>\n",
       "      <td>0.192651</td>\n",
       "    </tr>\n",
       "    <tr>\n",
       "      <th>3</th>\n",
       "      <td>finance</td>\n",
       "      <td>0.159175</td>\n",
       "    </tr>\n",
       "  </tbody>\n",
       "</table>\n",
       "</div>"
      ],
      "text/plain": [
       "     labels    scores\n",
       "0      tech  0.448697\n",
       "1  politics  0.199477\n",
       "2  business  0.192651\n",
       "3   finance  0.159175"
      ]
     },
     "metadata": {},
     "output_type": "display_data"
    }
   ],
   "source": [
    "# test with the last sentence\n",
    "english_text = english_texts[-1]\n",
    "prediction = classify_text(english_text, candidate_labels)\n",
    "print_classification_result(prediction)"
   ]
  },
  {
   "cell_type": "markdown",
   "metadata": {},
   "source": [
    "## Sentiment analysis"
   ]
  },
  {
   "cell_type": "code",
   "execution_count": 45,
   "metadata": {},
   "outputs": [
    {
     "name": "stderr",
     "output_type": "stream",
     "text": [
      "Downloading (…)lve/main/config.json: 100%|██████████| 629/629 [00:00<00:00, 626kB/s]\n",
      "Downloading model.safetensors: 100%|██████████| 268M/268M [01:10<00:00, 3.82MB/s] \n",
      "Downloading (…)okenizer_config.json: 100%|██████████| 48.0/48.0 [00:00<00:00, 24.0kB/s]\n",
      "Downloading (…)solve/main/vocab.txt: 100%|██████████| 232k/232k [00:00<00:00, 5.14MB/s]\n",
      "Xformers is not installed correctly. If you want to use memory_efficient_attention to accelerate training use the following command to install Xformers\n",
      "pip install xformers.\n"
     ]
    }
   ],
   "source": [
    "# model selection\n",
    "model_checkpoint = \"distilbert-base-uncased-finetuned-sst-2-english\"\n",
    "\n",
    "# model pipeline\n",
    "distil_bert_model = pipeline(task=\"sentiment-analysis\", model=model_checkpoint)"
   ]
  },
  {
   "cell_type": "code",
   "execution_count": 62,
   "metadata": {},
   "outputs": [
    {
     "name": "stderr",
     "output_type": "stream",
     "text": [
      "100%|██████████| 10/10 [00:00<00:00, 57.56it/s]\n"
     ]
    },
    {
     "data": {
      "text/html": [
       "<div>\n",
       "<style scoped>\n",
       "    .dataframe tbody tr th:only-of-type {\n",
       "        vertical-align: middle;\n",
       "    }\n",
       "\n",
       "    .dataframe tbody tr th {\n",
       "        vertical-align: top;\n",
       "    }\n",
       "\n",
       "    .dataframe thead th {\n",
       "        text-align: right;\n",
       "    }\n",
       "</style>\n",
       "<table border=\"1\" class=\"dataframe\">\n",
       "  <thead>\n",
       "    <tr style=\"text-align: right;\">\n",
       "      <th></th>\n",
       "      <th>sentence</th>\n",
       "      <th>sentiment</th>\n",
       "      <th>score</th>\n",
       "    </tr>\n",
       "  </thead>\n",
       "  <tbody>\n",
       "    <tr>\n",
       "      <th>0</th>\n",
       "      <td>NTSB says Autopilot engaged in 2018 California Tesla crash</td>\n",
       "      <td>NEGATIVE</td>\n",
       "      <td>0.996138</td>\n",
       "    </tr>\n",
       "    <tr>\n",
       "      <th>1</th>\n",
       "      <td>Unemployment falls to post-crash low of 5.2%</td>\n",
       "      <td>NEGATIVE</td>\n",
       "      <td>0.999525</td>\n",
       "    </tr>\n",
       "    <tr>\n",
       "      <th>2</th>\n",
       "      <td>Louise Kennedy AW2019: Long coats, sparkling tweed dresses and emerald knits</td>\n",
       "      <td>POSITIVE</td>\n",
       "      <td>0.998780</td>\n",
       "    </tr>\n",
       "    <tr>\n",
       "      <th>3</th>\n",
       "      <td>North Korean footballer Han joins Italian giants Juventus</td>\n",
       "      <td>POSITIVE</td>\n",
       "      <td>0.901961</td>\n",
       "    </tr>\n",
       "    <tr>\n",
       "      <th>4</th>\n",
       "      <td>UK government lawyer says proroguing parliament 'political not legal'</td>\n",
       "      <td>NEGATIVE</td>\n",
       "      <td>0.999319</td>\n",
       "    </tr>\n",
       "    <tr>\n",
       "      <th>5</th>\n",
       "      <td>'This Tender Land' is an affecting story about growing up</td>\n",
       "      <td>POSITIVE</td>\n",
       "      <td>0.999831</td>\n",
       "    </tr>\n",
       "    <tr>\n",
       "      <th>6</th>\n",
       "      <td>EU wants to see if lawmakers will block Brexit before striking new deal: UK's Johnson</td>\n",
       "      <td>NEGATIVE</td>\n",
       "      <td>0.957000</td>\n",
       "    </tr>\n",
       "    <tr>\n",
       "      <th>7</th>\n",
       "      <td>European third quarter profit outlook improves slightly but still in recession: Refinitv</td>\n",
       "      <td>NEGATIVE</td>\n",
       "      <td>0.994691</td>\n",
       "    </tr>\n",
       "    <tr>\n",
       "      <th>8</th>\n",
       "      <td>How are emotional support animals allowed on flights?</td>\n",
       "      <td>NEGATIVE</td>\n",
       "      <td>0.997652</td>\n",
       "    </tr>\n",
       "    <tr>\n",
       "      <th>9</th>\n",
       "      <td>Boris Johnson to meet Leo Varadkar in Dublin on Monday</td>\n",
       "      <td>POSITIVE</td>\n",
       "      <td>0.999130</td>\n",
       "    </tr>\n",
       "  </tbody>\n",
       "</table>\n",
       "</div>"
      ],
      "text/plain": [
       "                                                                                   sentence  \\\n",
       "0                                NTSB says Autopilot engaged in 2018 California Tesla crash   \n",
       "1                                              Unemployment falls to post-crash low of 5.2%   \n",
       "2              Louise Kennedy AW2019: Long coats, sparkling tweed dresses and emerald knits   \n",
       "3                                 North Korean footballer Han joins Italian giants Juventus   \n",
       "4                     UK government lawyer says proroguing parliament 'political not legal'   \n",
       "5                                 'This Tender Land' is an affecting story about growing up   \n",
       "6     EU wants to see if lawmakers will block Brexit before striking new deal: UK's Johnson   \n",
       "7  European third quarter profit outlook improves slightly but still in recession: Refinitv   \n",
       "8                                     How are emotional support animals allowed on flights?   \n",
       "9                                    Boris Johnson to meet Leo Varadkar in Dublin on Monday   \n",
       "\n",
       "  sentiment     score  \n",
       "0  NEGATIVE  0.996138  \n",
       "1  NEGATIVE  0.999525  \n",
       "2  POSITIVE  0.998780  \n",
       "3  POSITIVE  0.901961  \n",
       "4  NEGATIVE  0.999319  \n",
       "5  POSITIVE  0.999831  \n",
       "6  NEGATIVE  0.957000  \n",
       "7  NEGATIVE  0.994691  \n",
       "8  NEGATIVE  0.997652  \n",
       "9  POSITIVE  0.999130  "
      ]
     },
     "execution_count": 62,
     "metadata": {},
     "output_type": "execute_result"
    }
   ],
   "source": [
    "# Run the predictions\n",
    "from tqdm import tqdm\n",
    "\n",
    "# display the whole column with pandas\n",
    "pd.set_option(\"display.max_colwidth\", None)\n",
    "\n",
    "sentence_list = english_texts[:10].tolist()\n",
    "sentiment = []\n",
    "score = []\n",
    "for sentence in tqdm(sentence_list):\n",
    "    result = distil_bert_model(sentence)\n",
    "    sentiment.append(result[0]['label'])\n",
    "    score.append(result[0]['score'])\n",
    "\n",
    "pd.DataFrame({\"sentence\": sentence_list,\"sentiment\": sentiment, \"score\": score})"
   ]
  },
  {
   "cell_type": "markdown",
   "metadata": {},
   "source": [
    "## Question answering"
   ]
  },
  {
   "cell_type": "code",
   "execution_count": 63,
   "metadata": {},
   "outputs": [
    {
     "name": "stderr",
     "output_type": "stream",
     "text": [
      "Downloading (…)lve/main/config.json: 100%|██████████| 571/571 [00:00<?, ?B/s] \n",
      "Downloading model.safetensors: 100%|██████████| 496M/496M [02:00<00:00, 4.10MB/s] \n",
      "Downloading (…)okenizer_config.json: 100%|██████████| 79.0/79.0 [00:00<00:00, 78.3kB/s]\n",
      "Downloading (…)olve/main/vocab.json: 100%|██████████| 899k/899k [00:00<00:00, 3.85MB/s]\n",
      "Downloading (…)olve/main/merges.txt: 100%|██████████| 456k/456k [00:00<00:00, 2.93MB/s]\n",
      "Downloading (…)cial_tokens_map.json: 100%|██████████| 772/772 [00:00<?, ?B/s] \n"
     ]
    }
   ],
   "source": [
    "# load the pipeline\n",
    "from transformers import AutoModelForQuestionAnswering, AutoTokenizer\n",
    "\n",
    "# specify the model\n",
    "model_checkpoint = \"deepset/roberta-base-squad2\"\n",
    "\n",
    "# specify the task\n",
    "task = 'question-answering'\n",
    "\n",
    "# instantiate the pipeline\n",
    "QA_model = pipeline(task, model=model_checkpoint, tokenizer=model_checkpoint)"
   ]
  },
  {
   "cell_type": "code",
   "execution_count": 76,
   "metadata": {},
   "outputs": [
    {
     "name": "stdout",
     "output_type": "stream",
     "text": [
      "A top Pakistani health official says authorities are battling one of the worst-ever dengue fever outbreaks in the country, including the capital Islamabad as hospitals continued to receive scores of patients, putting strain on emergency services.\n",
      "Rana Mohamm… [+562 chars]\n"
     ]
    }
   ],
   "source": [
    "text_sample = news_data['content'][10204]\n",
    "print(text_sample)"
   ]
  },
  {
   "cell_type": "code",
   "execution_count": 82,
   "metadata": {},
   "outputs": [
    {
     "data": {
      "text/html": [
       "<div>\n",
       "<style scoped>\n",
       "    .dataframe tbody tr th:only-of-type {\n",
       "        vertical-align: middle;\n",
       "    }\n",
       "\n",
       "    .dataframe tbody tr th {\n",
       "        vertical-align: top;\n",
       "    }\n",
       "\n",
       "    .dataframe thead th {\n",
       "        text-align: right;\n",
       "    }\n",
       "</style>\n",
       "<table border=\"1\" class=\"dataframe\">\n",
       "  <thead>\n",
       "    <tr style=\"text-align: right;\">\n",
       "      <th></th>\n",
       "      <th>score</th>\n",
       "      <th>start</th>\n",
       "      <th>end</th>\n",
       "      <th>answer</th>\n",
       "    </tr>\n",
       "  </thead>\n",
       "  <tbody>\n",
       "    <tr>\n",
       "      <th>0</th>\n",
       "      <td>0.963601</td>\n",
       "      <td>145</td>\n",
       "      <td>154</td>\n",
       "      <td>Islamabad</td>\n",
       "    </tr>\n",
       "  </tbody>\n",
       "</table>\n",
       "</div>"
      ],
      "text/plain": [
       "      score  start  end     answer\n",
       "0  0.963601    145  154  Islamabad"
      ]
     },
     "execution_count": 82,
     "metadata": {},
     "output_type": "execute_result"
    }
   ],
   "source": [
    "# Q&A function\n",
    "def get_model_response(question, context):\n",
    "    QA_input = {\n",
    "        'question': question,\n",
    "        'context': context\n",
    "    }\n",
    "\n",
    "    model_response = QA_model(QA_input)\n",
    "\n",
    "    return pd.DataFrame([model_response])\n",
    "\n",
    "# Usage:\n",
    "question = 'what is the capital of Pakistan?'\n",
    "context = text_sample\n",
    "\n",
    "result = get_model_response(question, context)\n",
    "result"
   ]
  },
  {
   "cell_type": "code",
   "execution_count": 88,
   "metadata": {},
   "outputs": [
    {
     "data": {
      "text/html": [
       "<div>\n",
       "<style scoped>\n",
       "    .dataframe tbody tr th:only-of-type {\n",
       "        vertical-align: middle;\n",
       "    }\n",
       "\n",
       "    .dataframe tbody tr th {\n",
       "        vertical-align: top;\n",
       "    }\n",
       "\n",
       "    .dataframe thead th {\n",
       "        text-align: right;\n",
       "    }\n",
       "</style>\n",
       "<table border=\"1\" class=\"dataframe\">\n",
       "  <thead>\n",
       "    <tr style=\"text-align: right;\">\n",
       "      <th></th>\n",
       "      <th>score</th>\n",
       "      <th>start</th>\n",
       "      <th>end</th>\n",
       "      <th>answer</th>\n",
       "    </tr>\n",
       "  </thead>\n",
       "  <tbody>\n",
       "    <tr>\n",
       "      <th>0</th>\n",
       "      <td>0.276675</td>\n",
       "      <td>84</td>\n",
       "      <td>106</td>\n",
       "      <td>dengue fever outbreaks</td>\n",
       "    </tr>\n",
       "  </tbody>\n",
       "</table>\n",
       "</div>"
      ],
      "text/plain": [
       "      score  start  end                  answer\n",
       "0  0.276675     84  106  dengue fever outbreaks"
      ]
     },
     "execution_count": 88,
     "metadata": {},
     "output_type": "execute_result"
    }
   ],
   "source": [
    "result = get_model_response(\"what is the problem?\", text_sample)\n",
    "result"
   ]
  },
  {
   "cell_type": "markdown",
   "metadata": {},
   "source": [
    "To go further with hugging face you can visit: https://huggingface.co/models"
   ]
  }
 ],
 "metadata": {
  "kernelspec": {
   "display_name": "myenv",
   "language": "python",
   "name": "python3"
  },
  "language_info": {
   "codemirror_mode": {
    "name": "ipython",
    "version": 3
   },
   "file_extension": ".py",
   "mimetype": "text/x-python",
   "name": "python",
   "nbconvert_exporter": "python",
   "pygments_lexer": "ipython3",
   "version": "3.11.4"
  },
  "orig_nbformat": 4
 },
 "nbformat": 4,
 "nbformat_minor": 2
}
